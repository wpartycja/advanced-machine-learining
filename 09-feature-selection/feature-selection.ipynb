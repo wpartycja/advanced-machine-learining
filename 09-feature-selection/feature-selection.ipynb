{
 "cells": [
  {
   "cell_type": "code",
   "execution_count": 2,
   "metadata": {},
   "outputs": [],
   "source": [
    "import numpy as np\n",
    "from scipy.stats import chi2"
   ]
  },
  {
   "cell_type": "markdown",
   "metadata": {},
   "source": [
    "## 1. Dataset generation"
   ]
  },
  {
   "cell_type": "code",
   "execution_count": 3,
   "metadata": {},
   "outputs": [],
   "source": [
    "n = 1000 # dataset size\n",
    "p = 100  # no of all features\n",
    "k = 20   # no of relevant features\n",
    "\n",
    "def generate_dataset1(n_observations, n_all_feautres, n_relevant_features):\n",
    "    # Generate n samples of p features each from N(0, 1)\n",
    "    X = np.random.normal(0, 1, (n_observations, n_all_feautres))\n",
    "    \n",
    "    # Calculate chi-squared median\n",
    "    chi2_median = chi2.ppf(0.5, n_relevant_features)\n",
    "    \n",
    "    # Calculate sum of squares for the first k features\n",
    "    sum_of_squares = np.sum(X[:, :n_relevant_features] ** 2, axis=1)\n",
    "    \n",
    "    # Generate target variable Y based on the condition\n",
    "    y = (sum_of_squares > chi2_median).astype(int)\n",
    "    \n",
    "    return X, y\n",
    "\n",
    "X, y = generate_dataset1(n, p, k)"
   ]
  },
  {
   "cell_type": "code",
   "execution_count": 4,
   "metadata": {},
   "outputs": [
    {
     "data": {
      "text/plain": [
       "(1000, 100)"
      ]
     },
     "execution_count": 4,
     "metadata": {},
     "output_type": "execute_result"
    }
   ],
   "source": [
    "X.shape"
   ]
  },
  {
   "cell_type": "code",
   "execution_count": 5,
   "metadata": {},
   "outputs": [],
   "source": [
    "def generate_dataset2(n_observations, n_all_feautres, n_relevant_features):\n",
    "    # Generate n samples of p features each from N(0, 1)\n",
    "    X = np.random.normal(0, 1, (n_observations, n_all_feautres))\n",
    "    \n",
    "    sum_abs_X = np.sum(np.abs(X), axis=1)\n",
    "    \n",
    "    y = (sum_abs_X > n_relevant_features).astype(int)\n",
    "    \n",
    "    return X, y\n",
    "\n",
    "X, y = generate_dataset1(n, p, k)"
   ]
  }
 ],
 "metadata": {
  "kernelspec": {
   "display_name": "Python 3",
   "language": "python",
   "name": "python3"
  },
  "language_info": {
   "codemirror_mode": {
    "name": "ipython",
    "version": 3
   },
   "file_extension": ".py",
   "mimetype": "text/x-python",
   "name": "python",
   "nbconvert_exporter": "python",
   "pygments_lexer": "ipython3",
   "version": "3.10.12"
  }
 },
 "nbformat": 4,
 "nbformat_minor": 2
}
