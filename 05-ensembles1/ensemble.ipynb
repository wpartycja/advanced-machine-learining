{
 "cells": [
  {
   "cell_type": "code",
   "execution_count": 1,
   "metadata": {},
   "outputs": [
    {
     "name": "stdout",
     "output_type": "stream",
     "text": [
      "Accuracy: 0.47\n"
     ]
    }
   ],
   "source": [
    "import numpy as np\n",
    "from sklearn.tree import DecisionTreeClassifier\n",
    "from sklearn.base import clone\n",
    "from collections import defaultdict\n",
    "\n",
    "class AdaBoost:\n",
    "    def __init__(self, base_classifier=DecisionTreeClassifier(max_depth=1), n_estimators=50):\n",
    "        self.base_classifier = base_classifier\n",
    "        self.n_estimators = n_estimators\n",
    "        self.ensemble = []\n",
    "\n",
    "    def fit(self, X, y):\n",
    "        n_samples, n_features = X.shape\n",
    "        # Initialize weights\n",
    "        w = np.ones(n_samples) / n_samples\n",
    "\n",
    "        for k in range(self.n_estimators):\n",
    "            # Clone the base classifier and fit it with the current weights\n",
    "            clf = clone(self.base_classifier)\n",
    "            clf.fit(X, y, sample_weight=w)\n",
    "            \n",
    "            # Make predictions\n",
    "            y_pred = clf.predict(X)\n",
    "            \n",
    "            # Compute weighted classification error\n",
    "            incorrect = (y_pred != y)\n",
    "            epsilon_k = np.sum(w * incorrect)\n",
    "            \n",
    "            # Compute scaling factor\n",
    "            beta_k = epsilon_k / (1 - epsilon_k)\n",
    "            \n",
    "            # Add the classifier and its weight to the ensemble\n",
    "            self.ensemble.append((clf, beta_k))\n",
    "            \n",
    "            # Update weights\n",
    "            w = w * np.where(incorrect, 1, beta_k)\n",
    "            \n",
    "            # Normalize weights\n",
    "            w /= np.sum(w)\n",
    "            \n",
    "    def predict(self, X):\n",
    "        B = len(self.ensemble)\n",
    "        # Initialize the score for each class\n",
    "        class_scores = defaultdict(float)\n",
    "\n",
    "        # Sum log(1/beta_k) for classifiers that predict class y\n",
    "        for clf, beta_k in self.ensemble:\n",
    "            y_pred = clf.predict(X)\n",
    "            log_inv_beta_k = np.log(1 / beta_k)\n",
    "            for idx, pred in enumerate(y_pred):\n",
    "                class_scores[pred] += log_inv_beta_k\n",
    "\n",
    "        # Select the class with the highest score\n",
    "        y_pred = [max(class_scores, key=class_scores.get) for _ in range(X.shape[0])]\n",
    "        \n",
    "        return np.array(y_pred)\n",
    "\n",
    "# Example usage:\n",
    "# Generate a sample dataset\n",
    "from sklearn.datasets import make_classification\n",
    "from sklearn.model_selection import train_test_split\n",
    "from sklearn.metrics import accuracy_score\n",
    "\n",
    "X, y = make_classification(n_samples=1000, n_features=20, n_classes=2, random_state=42)\n",
    "X_train, X_test, y_train, y_test = train_test_split(X, y, test_size=0.2, random_state=42)\n",
    "\n",
    "# Train AdaBoost classifier\n",
    "ada = AdaBoost(n_estimators=50)\n",
    "ada.fit(X_train, y_train)\n",
    "\n",
    "# Predict\n",
    "y_pred = ada.predict(X_test)\n",
    "\n",
    "# Evaluate\n",
    "accuracy = accuracy_score(y_test, y_pred)\n",
    "print(f\"Accuracy: {accuracy:.2f}\")\n"
   ]
  }
 ],
 "metadata": {
  "kernelspec": {
   "display_name": "Python 3",
   "language": "python",
   "name": "python3"
  },
  "language_info": {
   "codemirror_mode": {
    "name": "ipython",
    "version": 3
   },
   "file_extension": ".py",
   "mimetype": "text/x-python",
   "name": "python",
   "nbconvert_exporter": "python",
   "pygments_lexer": "ipython3",
   "version": "3.10.12"
  }
 },
 "nbformat": 4,
 "nbformat_minor": 2
}
