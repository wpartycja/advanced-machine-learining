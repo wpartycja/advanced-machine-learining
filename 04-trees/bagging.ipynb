{
 "cells": [
  {
   "cell_type": "code",
   "execution_count": 23,
   "metadata": {},
   "outputs": [],
   "source": [
    "from sklearn.tree import DecisionTreeClassifier\n",
    "from sklearn.tree import DecisionTreeRegressor\n",
    "from sklearn.metrics import mean_squared_error\n",
    "from sklearn.model_selection import train_test_split\n",
    "from statistics import mean\n",
    "from random import randint\n",
    "\n",
    "import pandas as pd\n",
    "import numpy as np"
   ]
  },
  {
   "cell_type": "markdown",
   "metadata": {},
   "source": [
    "### Datasets"
   ]
  },
  {
   "cell_type": "code",
   "execution_count": 13,
   "metadata": {},
   "outputs": [
    {
     "name": "stderr",
     "output_type": "stream",
     "text": [
      "/tmp/ipykernel_9590/589209571.py:2: FutureWarning: Downcasting behavior in `replace` is deprecated and will be removed in a future version. To retain the old behavior, explicitly call `result.infer_objects(copy=False)`. To opt-in to the future behavior, set `pd.set_option('future.no_silent_downcasting', True)`\n",
      "  heart_df.replace({'famhist': {'Absent': 0, 'Present': 1}}, inplace=True)\n"
     ]
    },
    {
     "data": {
      "text/html": [
       "<div>\n",
       "<style scoped>\n",
       "    .dataframe tbody tr th:only-of-type {\n",
       "        vertical-align: middle;\n",
       "    }\n",
       "\n",
       "    .dataframe tbody tr th {\n",
       "        vertical-align: top;\n",
       "    }\n",
       "\n",
       "    .dataframe thead th {\n",
       "        text-align: right;\n",
       "    }\n",
       "</style>\n",
       "<table border=\"1\" class=\"dataframe\">\n",
       "  <thead>\n",
       "    <tr style=\"text-align: right;\">\n",
       "      <th></th>\n",
       "      <th>sbp</th>\n",
       "      <th>tobacco</th>\n",
       "      <th>ldl</th>\n",
       "      <th>adiposity</th>\n",
       "      <th>famhist</th>\n",
       "      <th>typea</th>\n",
       "      <th>obesity</th>\n",
       "      <th>alcohol</th>\n",
       "      <th>age</th>\n",
       "      <th>chd</th>\n",
       "    </tr>\n",
       "  </thead>\n",
       "  <tbody>\n",
       "    <tr>\n",
       "      <th>0</th>\n",
       "      <td>160</td>\n",
       "      <td>12.00</td>\n",
       "      <td>5.73</td>\n",
       "      <td>23.11</td>\n",
       "      <td>1</td>\n",
       "      <td>49</td>\n",
       "      <td>25.30</td>\n",
       "      <td>97.20</td>\n",
       "      <td>52</td>\n",
       "      <td>1</td>\n",
       "    </tr>\n",
       "    <tr>\n",
       "      <th>1</th>\n",
       "      <td>144</td>\n",
       "      <td>0.01</td>\n",
       "      <td>4.41</td>\n",
       "      <td>28.61</td>\n",
       "      <td>0</td>\n",
       "      <td>55</td>\n",
       "      <td>28.87</td>\n",
       "      <td>2.06</td>\n",
       "      <td>63</td>\n",
       "      <td>1</td>\n",
       "    </tr>\n",
       "    <tr>\n",
       "      <th>2</th>\n",
       "      <td>118</td>\n",
       "      <td>0.08</td>\n",
       "      <td>3.48</td>\n",
       "      <td>32.28</td>\n",
       "      <td>1</td>\n",
       "      <td>52</td>\n",
       "      <td>29.14</td>\n",
       "      <td>3.81</td>\n",
       "      <td>46</td>\n",
       "      <td>0</td>\n",
       "    </tr>\n",
       "    <tr>\n",
       "      <th>3</th>\n",
       "      <td>170</td>\n",
       "      <td>7.50</td>\n",
       "      <td>6.41</td>\n",
       "      <td>38.03</td>\n",
       "      <td>1</td>\n",
       "      <td>51</td>\n",
       "      <td>31.99</td>\n",
       "      <td>24.26</td>\n",
       "      <td>58</td>\n",
       "      <td>1</td>\n",
       "    </tr>\n",
       "    <tr>\n",
       "      <th>4</th>\n",
       "      <td>134</td>\n",
       "      <td>13.60</td>\n",
       "      <td>3.50</td>\n",
       "      <td>27.78</td>\n",
       "      <td>1</td>\n",
       "      <td>60</td>\n",
       "      <td>25.99</td>\n",
       "      <td>57.34</td>\n",
       "      <td>49</td>\n",
       "      <td>1</td>\n",
       "    </tr>\n",
       "  </tbody>\n",
       "</table>\n",
       "</div>"
      ],
      "text/plain": [
       "   sbp  tobacco   ldl  adiposity  famhist  typea  obesity  alcohol  age  chd\n",
       "0  160    12.00  5.73      23.11        1     49    25.30    97.20   52    1\n",
       "1  144     0.01  4.41      28.61        0     55    28.87     2.06   63    1\n",
       "2  118     0.08  3.48      32.28        1     52    29.14     3.81   46    0\n",
       "3  170     7.50  6.41      38.03        1     51    31.99    24.26   58    1\n",
       "4  134    13.60  3.50      27.78        1     60    25.99    57.34   49    1"
      ]
     },
     "execution_count": 13,
     "metadata": {},
     "output_type": "execute_result"
    }
   ],
   "source": [
    "heart_df = pd.read_csv('./data/SAheart.data')\n",
    "heart_df.replace({'famhist': {'Absent': 0, 'Present': 1}}, inplace=True)\n",
    "heart_df.drop(columns=['row.names'], inplace=True)\n",
    "heart_df.head()"
   ]
  },
  {
   "cell_type": "code",
   "execution_count": 9,
   "metadata": {},
   "outputs": [
    {
     "data": {
      "text/html": [
       "<div>\n",
       "<style scoped>\n",
       "    .dataframe tbody tr th:only-of-type {\n",
       "        vertical-align: middle;\n",
       "    }\n",
       "\n",
       "    .dataframe tbody tr th {\n",
       "        vertical-align: top;\n",
       "    }\n",
       "\n",
       "    .dataframe thead th {\n",
       "        text-align: right;\n",
       "    }\n",
       "</style>\n",
       "<table border=\"1\" class=\"dataframe\">\n",
       "  <thead>\n",
       "    <tr style=\"text-align: right;\">\n",
       "      <th></th>\n",
       "      <th>Age</th>\n",
       "      <th>Weight</th>\n",
       "      <th>Oxygen</th>\n",
       "      <th>RunTime</th>\n",
       "      <th>RestPulse</th>\n",
       "      <th>RunPulse</th>\n",
       "      <th>MaxPulse</th>\n",
       "    </tr>\n",
       "  </thead>\n",
       "  <tbody>\n",
       "    <tr>\n",
       "      <th>0</th>\n",
       "      <td>44</td>\n",
       "      <td>89.47</td>\n",
       "      <td>44.609</td>\n",
       "      <td>11.37</td>\n",
       "      <td>62</td>\n",
       "      <td>178</td>\n",
       "      <td>182</td>\n",
       "    </tr>\n",
       "    <tr>\n",
       "      <th>1</th>\n",
       "      <td>44</td>\n",
       "      <td>85.84</td>\n",
       "      <td>54.297</td>\n",
       "      <td>8.65</td>\n",
       "      <td>45</td>\n",
       "      <td>156</td>\n",
       "      <td>168</td>\n",
       "    </tr>\n",
       "    <tr>\n",
       "      <th>2</th>\n",
       "      <td>38</td>\n",
       "      <td>89.02</td>\n",
       "      <td>49.874</td>\n",
       "      <td>9.22</td>\n",
       "      <td>55</td>\n",
       "      <td>178</td>\n",
       "      <td>180</td>\n",
       "    </tr>\n",
       "    <tr>\n",
       "      <th>3</th>\n",
       "      <td>40</td>\n",
       "      <td>75.98</td>\n",
       "      <td>45.681</td>\n",
       "      <td>11.95</td>\n",
       "      <td>70</td>\n",
       "      <td>176</td>\n",
       "      <td>180</td>\n",
       "    </tr>\n",
       "    <tr>\n",
       "      <th>4</th>\n",
       "      <td>44</td>\n",
       "      <td>81.42</td>\n",
       "      <td>39.442</td>\n",
       "      <td>13.08</td>\n",
       "      <td>63</td>\n",
       "      <td>174</td>\n",
       "      <td>176</td>\n",
       "    </tr>\n",
       "  </tbody>\n",
       "</table>\n",
       "</div>"
      ],
      "text/plain": [
       "   Age  Weight  Oxygen  RunTime  RestPulse  RunPulse  MaxPulse\n",
       "0   44   89.47  44.609    11.37         62       178       182\n",
       "1   44   85.84  54.297     8.65         45       156       168\n",
       "2   38   89.02  49.874     9.22         55       178       180\n",
       "3   40   75.98  45.681    11.95         70       176       180\n",
       "4   44   81.42  39.442    13.08         63       174       176"
      ]
     },
     "execution_count": 9,
     "metadata": {},
     "output_type": "execute_result"
    }
   ],
   "source": [
    "fitness_df = pd.read_csv('./data/fitness.txt', sep='\\\\s+')\n",
    "fitness_df.head()"
   ]
  },
  {
   "cell_type": "markdown",
   "metadata": {},
   "source": [
    "### Bagging Decision Tree class"
   ]
  },
  {
   "cell_type": "code",
   "execution_count": 67,
   "metadata": {},
   "outputs": [],
   "source": [
    "class BaggingDecisionTree():\n",
    "    def __init__(self, tree_type, n_trees):\n",
    "        \n",
    "        if tree_type == DecisionTreeClassifier:\n",
    "            self.criterion = \"entropy\"\n",
    "        elif tree_type == DecisionTreeRegressor:\n",
    "            self.criterion = \"squared_error\"\n",
    "        else:\n",
    "            raise Exception(\"Invalid tree type! Choose between: \\\n",
    "                (DecisionTreeClassifier, DecisionTreeRegressor)\")\n",
    "        \n",
    "        self.tree = tree_type\n",
    "        self.n_trees = n_trees\n",
    "        self.models = []\n",
    "            \n",
    "    def __bootstrap(self, X, y):\n",
    "        df_size = len(X)\n",
    "        \n",
    "        sample_X = []\n",
    "        sample_y = []\n",
    "        \n",
    "        for _ in range(df_size):\n",
    "            idx = randint(0, df_size - 1)\n",
    "            \n",
    "            sample_X.append(X[idx])\n",
    "            sample_y.append(y[idx])\n",
    "            \n",
    "        sample_X = np.array(sample_X)\n",
    "        sample_y = np.array(sample_y)\n",
    "            \n",
    "        # sample_X = pd.DataFrame(sample_X, columns=list(X.columns))\n",
    "        # sample_y = pd.DataFrame(sample_y, columns=[y.name])\n",
    "        \n",
    "        return sample_X, sample_y\n",
    "        \n",
    "            \n",
    "    def fit(self, X, y):\n",
    "        for _ in range(self.n_trees):\n",
    "            sample_X, sample_y = self.__bootstrap(X, y)\n",
    "            \n",
    "            model = self.tree(criterion=self.criterion)\n",
    "            model.fit(sample_X, sample_y)\n",
    "            self.models.append(model)\n",
    "    \n",
    "    def __score_classifier(self, X, y):\n",
    "        preds = np.array([model.score(X, y) for model in self.models])\n",
    "        return (round(mean(preds)))\n",
    "        \n",
    "    def __score_regressor(self, X, y):\n",
    "        preds = np.array([model.score(X, y) for model in self.models])\n",
    "        return mean(preds)\n",
    "    \n",
    "    def score(self, X, y):\n",
    "        if len(self.models) == 0:\n",
    "            raise Exception(\"Models need to be trained at first!\")\n",
    "        \n",
    "        if self.tree == DecisionTreeClassifier:\n",
    "            return self.__score_classifier(X, y)\n",
    "        elif self.tree == DecisionTreeRegressor:\n",
    "            return self.__score_regressor(X, y)\n"
   ]
  },
  {
   "cell_type": "markdown",
   "metadata": {},
   "source": [
    "## Experiments"
   ]
  },
  {
   "cell_type": "code",
   "execution_count": 111,
   "metadata": {},
   "outputs": [],
   "source": [
    "test_sizes = [0.1, 0.2, 0.25, 0.3, 0.4]\n",
    "\n",
    "X = heart_df[heart_df.columns.drop('chd')].to_numpy()\n",
    "y = heart_df['chd'].to_numpy()"
   ]
  },
  {
   "cell_type": "markdown",
   "metadata": {},
   "source": [
    "### South African Heart Disease dataset"
   ]
  },
  {
   "cell_type": "markdown",
   "metadata": {},
   "source": [
    "#### Single tree"
   ]
  },
  {
   "cell_type": "code",
   "execution_count": 112,
   "metadata": {},
   "outputs": [
    {
     "name": "stdout",
     "output_type": "stream",
     "text": [
      "Test size: 0.1\tSingle tree accuracy: 0.68\n",
      "Test size: 0.2\tSingle tree accuracy: 0.72\n",
      "Test size: 0.25\tSingle tree accuracy: 0.59\n",
      "Test size: 0.3\tSingle tree accuracy: 0.59\n",
      "Test size: 0.4\tSingle tree accuracy: 0.64\n",
      "Mean accuracy for single tree: 0.64\n"
     ]
    }
   ],
   "source": [
    "total_acc_single = []\n",
    "\n",
    "for test_size in test_sizes:\n",
    "\n",
    "    X_train, X_test, y_train, y_test = train_test_split(X, y, test_size=test_size)\n",
    "    model = DecisionTreeClassifier(criterion=\"entropy\")\n",
    "    model.fit(X_train, y_train)\n",
    "\n",
    "    acc = model.score(X_test, y_test)\n",
    "    total_acc_single.append(acc)\n",
    "    \n",
    "    print(f\"Test size: {test_size}\\tSingle tree accuracy: {round(acc, 2)}\")\n",
    "    \n",
    "print(f\"Mean accuracy for single tree: {round(mean(total_acc_single), 2)}\")"
   ]
  },
  {
   "cell_type": "markdown",
   "metadata": {},
   "source": [
    "#### Bagging"
   ]
  },
  {
   "cell_type": "code",
   "execution_count": 129,
   "metadata": {},
   "outputs": [
    {
     "name": "stdout",
     "output_type": "stream",
     "text": [
      "Test size: 0.1\tBagging tree accuracy: 1\n",
      "Test size: 0.2\tBagging tree accuracy: 1\n",
      "Test size: 0.25\tBagging tree accuracy: 1\n",
      "Test size: 0.3\tBagging tree accuracy: 1\n",
      "Test size: 0.4\tBagging tree accuracy: 1\n",
      "Mean accuracy for bagging tree: 1\n"
     ]
    }
   ],
   "source": [
    "total_acc_bagging = []\n",
    "\n",
    "for test_size in test_sizes:\n",
    "\n",
    "    X_train, X_test, y_train, y_test = train_test_split(X, y, test_size=test_size)\n",
    "    model = BaggingDecisionTree(DecisionTreeClassifier, 10)\n",
    "    model.fit(X_train, y_train)\n",
    "\n",
    "    acc = model.score(X_test, y_test)\n",
    "    total_acc_bagging.append(acc)\n",
    "    \n",
    "    print(f\"Test size: {test_size}\\tBagging tree accuracy: {round(acc, 2)}\")\n",
    "    \n",
    "print(f\"Mean accuracy for bagging tree: {round(mean(total_acc_bagging), 2)}\")"
   ]
  },
  {
   "cell_type": "markdown",
   "metadata": {},
   "source": [
    "### Plot to compare performance"
   ]
  },
  {
   "cell_type": "code",
   "execution_count": 211,
   "metadata": {},
   "outputs": [
    {
     "data": {
      "image/png": "[encoded data removed]",
      "text/plain": [
       "<Figure size 1000x500 with 2 Axes>"
      ]
     },
     "metadata": {},
     "output_type": "display_data"
    }
   ],
   "source": [
    "import seaborn as sns\n",
    "import matplotlib.pyplot as plt\n",
    "\n",
    "fig, axes = plt.subplots(nrows=1, ncols=2, figsize=(10, 5), sharey=True)\n",
    "\n",
    "sns.barplot(x=test_sizes, y=total_acc_single, color='pink',  ax=axes[0])\n",
    "axes[0].set_title('Single Tree') \n",
    "axes[0].set_xlabel('Test Sizes') \n",
    "axes[0].set_ylabel('Accuracy')  \n",
    "axes[0].bar_label(axes[0].containers[0], fontsize=10, fmt='%.2f')\n",
    "\n",
    "\n",
    "sns.barplot(x=test_sizes, y=total_acc_bagging, color='lightblue', ax=axes[1])\n",
    "axes[1].set_title('Bagging Tree')\n",
    "axes[1].set_xlabel('Test Sizes') \n",
    "axes[1].set_ylabel('Accuracy')\n",
    "axes[1].bar_label(axes[1].containers[0], fontsize=10, fmt='%.2f') \n",
    "\n",
    "fig.suptitle('Comparison of Single Tree vs Bagging Tree', fontsize=16)\n",
    "\n",
    "plt.tight_layout()  \n",
    "plt.show()"
   ]
  },
  {
   "cell_type": "markdown",
   "metadata": {},
   "source": [
    "### Fitness dataset"
   ]
  },
  {
   "cell_type": "code",
   "execution_count": 141,
   "metadata": {},
   "outputs": [],
   "source": [
    "X = fitness_df[fitness_df.columns.drop('Oxygen')].to_numpy()\n",
    "y = fitness_df['Oxygen'].to_numpy()"
   ]
  },
  {
   "cell_type": "markdown",
   "metadata": {},
   "source": [
    "#### Single tree"
   ]
  },
  {
   "cell_type": "code",
   "execution_count": 144,
   "metadata": {},
   "outputs": [
    {
     "name": "stdout",
     "output_type": "stream",
     "text": [
      "Test size: 0.1\tSingle tree R^2 score: 0.69\n",
      "Test size: 0.2\tSingle tree R^2 score: 0.42\n",
      "Test size: 0.25\tSingle tree R^2 score: 0.37\n",
      "Test size: 0.3\tSingle tree R^2 score: 0.57\n",
      "Test size: 0.4\tSingle tree R^2 score: 0.46\n",
      "Mean R^2 score for single tree: 0.5\n"
     ]
    }
   ],
   "source": [
    "total_acc_single = []\n",
    "\n",
    "for test_size in test_sizes:\n",
    "\n",
    "    X_train, X_test, y_train, y_test = train_test_split(X, y, test_size=test_size, random_state=42)\n",
    "    model = DecisionTreeRegressor(criterion=\"squared_error\")\n",
    "    model.fit(X_train, y_train)\n",
    "\n",
    "    acc = model.score(X_test, y_test)\n",
    "    total_acc_single.append(acc)\n",
    "    \n",
    "    print(f\"Test size: {test_size}\\tSingle tree R^2 score: {round(acc, 2)}\")\n",
    "    \n",
    "print(f\"Mean R^2 score for single tree: {round(mean(total_acc_single), 2)}\")"
   ]
  },
  {
   "cell_type": "markdown",
   "metadata": {},
   "source": [
    "#### Bagging"
   ]
  },
  {
   "cell_type": "code",
   "execution_count": 202,
   "metadata": {},
   "outputs": [
    {
     "name": "stdout",
     "output_type": "stream",
     "text": [
      "Test size: 0.1\tBagging tree R^2 score: 0.54\n",
      "Test size: 0.2\tBagging tree R^2 score: 0.1\n",
      "Test size: 0.25\tBagging tree R^2 score: 0.33\n",
      "Test size: 0.3\tBagging tree R^2 score: 0.05\n",
      "Test size: 0.4\tBagging tree R^2 score: 0.12\n",
      "Mean R^2 score for bagging tree: 0.22\n"
     ]
    }
   ],
   "source": [
    "total_acc_bagging = []\n",
    "\n",
    "for test_size in test_sizes:\n",
    "\n",
    "    X_train, X_test, y_train, y_test = train_test_split(X, y, test_size=test_size, random_state=42)\n",
    "    model = BaggingDecisionTree(DecisionTreeRegressor, 10)\n",
    "    model.fit(X_train, y_train)\n",
    "    \n",
    "    acc = model.score(X_test, y_test)\n",
    "    total_acc_bagging.append(acc)\n",
    "    \n",
    "    print(f\"Test size: {test_size}\\tBagging tree R^2 score: {round(acc, 2)}\")\n",
    "    \n",
    "print(f\"Mean R^2 score for bagging tree: {round(mean(total_acc_bagging), 2)}\")"
   ]
  },
  {
   "cell_type": "code",
   "execution_count": 210,
   "metadata": {},
   "outputs": [
    {
     "data": {
      "image/png": "[encoded data removed]",
      "text/plain": [
       "<Figure size 1000x500 with 2 Axes>"
      ]
     },
     "metadata": {},
     "output_type": "display_data"
    }
   ],
   "source": [
    "import seaborn as sns\n",
    "import matplotlib.pyplot as plt\n",
    "\n",
    "fig, axes = plt.subplots(nrows=1, ncols=2, figsize=(10, 5), sharey=True)\n",
    "\n",
    "sns.barplot(x=test_sizes, y=total_acc_single, color='pink',  ax=axes[0])\n",
    "axes[0].set_title('Single Tree') \n",
    "axes[0].set_xlabel('Test Sizes') \n",
    "axes[0].set_ylabel('R^2 score')  \n",
    "axes[0].bar_label(axes[0].containers[0], fontsize=10, fmt='%.2f')\n",
    "\n",
    "\n",
    "sns.barplot(x=test_sizes, y=total_acc_bagging, color='lightblue', ax=axes[1])\n",
    "axes[1].set_title('Bagging Tree')\n",
    "axes[1].set_xlabel('Test Sizes') \n",
    "axes[1].set_ylabel('R^2 score')\n",
    "axes[1].bar_label(axes[1].containers[0], fontsize=10, fmt='%.2f') \n",
    "\n",
    "fig.suptitle('Comparison of Single Tree vs Bagging Tree', fontsize=16)\n",
    "\n",
    "plt.tight_layout()  \n",
    "plt.show()"
   ]
  }
 ],
 "metadata": {
  "kernelspec": {
   "display_name": "mini",
   "language": "python",
   "name": "python3"
  },
  "language_info": {
   "codemirror_mode": {
    "name": "ipython",
    "version": 3
   },
   "file_extension": ".py",
   "mimetype": "text/x-python",
   "name": "python",
   "nbconvert_exporter": "python",
   "pygments_lexer": "ipython3",
   "version": "3.12.2"
  }
 },
 "nbformat": 4,
 "nbformat_minor": 2
}
